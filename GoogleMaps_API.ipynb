{
  "nbformat": 4,
  "nbformat_minor": 0,
  "metadata": {
    "colab": {
      "provenance": [],
      "mount_file_id": "1ZB8Yku3PsB-3M2FJlW_x2LMppSqIi_PB",
      "authorship_tag": "ABX9TyOXD9AOsohhuCF+KwJ8ptXM",
      "include_colab_link": true
    },
    "kernelspec": {
      "name": "python3",
      "display_name": "Python 3"
    },
    "language_info": {
      "name": "python"
    }
  },
  "cells": [
    {
      "cell_type": "markdown",
      "metadata": {
        "id": "view-in-github",
        "colab_type": "text"
      },
      "source": [
        "<a href=\"https://colab.research.google.com/github/chengulatj/googlemaps_api_reverse_geocoding/blob/main/GoogleMaps_API.ipynb\" target=\"_parent\"><img src=\"https://colab.research.google.com/assets/colab-badge.svg\" alt=\"Open In Colab\"/></a>"
      ]
    },
    {
      "cell_type": "code",
      "execution_count": null,
      "metadata": {
        "id": "xcirUt77ryIG",
        "collapsed": true
      },
      "outputs": [],
      "source": [
        "import pandas as pd\n",
        "locations = pd.read_excel('/content/drive/MyDrive/SL0202_Replacement_Locations.xlsx', skiprows=1)\n",
        "locations.head()"
      ]
    },
    {
      "cell_type": "code",
      "source": [
        "#creating a sub-dataframe with the coordinates only\n",
        "latlongs = locations[['Latitude', 'Longitude']]\n",
        "latlongs.head()"
      ],
      "metadata": {
        "id": "KrQu16GquCbf",
        "collapsed": true
      },
      "execution_count": null,
      "outputs": []
    },
    {
      "source": [
        "import re\n",
        "\n",
        "# Define a helper function to convert Degree-Minute-Second (DMS) to decimal\n",
        "def dms_to_dd(dms_str):\n",
        "    # Convert the input to string to handle potential non-string values\n",
        "    dms_str = str(dms_str)\n",
        "    parts = re.split('[°\\'\"]+', dms_str)\n",
        "\n",
        "    # Handle cases where the input is not in DMS format or is empty\n",
        "    if len(parts) != 4:\n",
        "        return float('nan')  # Return NaN for invalid inputs\n",
        "\n",
        "    degrees = float(parts[0])\n",
        "    minutes = float(parts[1])\n",
        "    seconds = float(parts[2])\n",
        "    direction = parts[3].strip()\n",
        "\n",
        "    dd = degrees + minutes / 60 + seconds / 3600\n",
        "    if direction in ['S', 'W']:\n",
        "        dd *= -1  # South and West are negative\n",
        "    return dd\n",
        "\n",
        "# Apply the conversion to both Latitude and Longitude columns using .loc to avoid warnings\n",
        "latlongs.loc[:, 'Latitude_dec'] = latlongs['Latitude'].apply(dms_to_dd)\n",
        "latlongs.loc[:, 'Longitude_dec'] = latlongs['Longitude'].apply(dms_to_dd)"
      ],
      "cell_type": "code",
      "metadata": {
        "id": "upPoUNwBwIVB",
        "collapsed": true
      },
      "execution_count": null,
      "outputs": []
    },
    {
      "cell_type": "code",
      "source": [
        "# Display the sample result\n",
        "latlongs[['Latitude', 'Longitude', 'Latitude_dec', 'Longitude_dec']].head()"
      ],
      "metadata": {
        "id": "7c9lQRCVw5li",
        "collapsed": true
      },
      "execution_count": null,
      "outputs": []
    },
    {
      "cell_type": "code",
      "source": [
        "!pip install -U googlemaps"
      ],
      "metadata": {
        "id": "BXYHI4hYChOB"
      },
      "execution_count": null,
      "outputs": []
    },
    {
      "cell_type": "code",
      "source": [
        "import googlemaps\n",
        "import pandas as pd\n",
        "import time\n",
        "\n",
        "# Read the Generated API key from the file stored in Google Drive\n",
        "with open('/content/drive/MyDrive/KEY.txt') as f:\n",
        "    for line in f:\n",
        "        key, value = line.strip().split('=')\n",
        "        if key == 'API_KEY':\n",
        "            API_KEY = value\n",
        "\n",
        "# Initialize Google Maps client with the API key read from the file\n",
        "gmaps = googlemaps.Client(key=API_KEY)"
      ],
      "metadata": {
        "id": "v-VBuotGM7jI"
      },
      "execution_count": 6,
      "outputs": []
    },
    {
      "cell_type": "code",
      "source": [
        "# Function to reverse geocode using Google Maps API and extract the county\n",
        "def get_county_google(lat, lon):\n",
        "    try:\n",
        "        # Check if latitude and longitude are valid\n",
        "        if pd.isna(lat) or pd.isna(lon):\n",
        "            return 'Invalid Coordinates'\n",
        "        if not (-90 <= lat <= 90) or not (-180 <= lon <= 180):\n",
        "            return 'Invalid Lat/Long Range'\n",
        "\n",
        "        # Print coordinates for debugging\n",
        "        print(f\"Processing Lat: {lat}, Lon: {lon}\")\n",
        "\n",
        "        # Use reverse geocoding to get the location data\n",
        "        result = gmaps.reverse_geocode((lat, lon))\n",
        "\n",
        "        # Loop through the address components to find the county\n",
        "        for component in result[0]['address_components']:\n",
        "            if 'administrative_area_level_2' in component['types']:\n",
        "                return component['long_name']  # Return the county name\n",
        "\n",
        "        return 'County not found'\n",
        "    except Exception as e:\n",
        "        print(f\"Error: {e}\")\n",
        "        return 'Error'\n"
      ],
      "metadata": {
        "id": "E7BiNIBip75j"
      },
      "execution_count": 7,
      "outputs": []
    },
    {
      "cell_type": "code",
      "source": [
        "# Apply reverse geocoding to get the county for each lat-long pair\n",
        "latlongs.loc[:,'County'] = latlongs.apply(lambda row: get_county_google(row['Latitude_dec'], row['Longitude_dec']), axis=1)"
      ],
      "metadata": {
        "colab": {
          "base_uri": "https://localhost:8080/"
        },
        "collapsed": true,
        "id": "Q45pao3rmsvq",
        "outputId": "9b4fedcb-e146-4190-85b6-99314fa50673"
      },
      "execution_count": 8,
      "outputs": [
        {
          "output_type": "stream",
          "name": "stdout",
          "text": [
            "Processing Lat: 38.50638611111111, Lon: -90.67800555555556\n",
            "Processing Lat: 38.41685833333333, Lon: -90.39056666666667\n",
            "Processing Lat: 38.51134722222222, Lon: -90.33563055555555\n",
            "Processing Lat: 38.532669444444444, Lon: -90.31068055555555\n",
            "Processing Lat: 38.53350833333333, Lon: -90.3125111111111\n",
            "Processing Lat: 38.6083, Lon: -90.21219722222223\n",
            "Processing Lat: 38.441066666666664, Lon: -90.38112222222222\n",
            "Processing Lat: 38.44199444444444, Lon: -90.381475\n",
            "Processing Lat: 38.48585, Lon: -90.35621666666665\n",
            "Processing Lat: 38.57448055555556, Lon: -90.23363333333333\n",
            "Processing Lat: 38.61277777777778, Lon: -90.19723888888889\n",
            "Processing Lat: 38.65386111111111, Lon: -90.55827222222221\n",
            "Processing Lat: 38.638983333333336, Lon: -90.49841666666667\n",
            "Processing Lat: 38.62918888888889, Lon: -90.30698611111112\n",
            "Processing Lat: 38.631838888888886, Lon: -90.28544166666667\n",
            "Processing Lat: 38.630825, Lon: -90.22758333333333\n",
            "Processing Lat: 38.715138888888895, Lon: -90.70363055555556\n",
            "Processing Lat: 38.71018611111111, Lon: -90.69317777777778\n",
            "Processing Lat: 38.66851944444444, Lon: -90.61794444444443\n",
            "Processing Lat: 38.66851944444444, Lon: -90.61794444444443\n",
            "Processing Lat: 38.646163888888886, Lon: -90.53078888888889\n",
            "Processing Lat: 38.62923055555556, Lon: -90.30695\n",
            "Processing Lat: 38.63173333333334, Lon: -90.25333333333333\n",
            "Processing Lat: 38.63171944444444, Lon: -90.24854166666667\n",
            "Processing Lat: 38.802216666666666, Lon: -90.73293333333334\n",
            "Processing Lat: 38.80183333333333, Lon: -90.70053888888889\n",
            "Processing Lat: 38.798366666666666, Lon: -90.6211361111111\n",
            "Processing Lat: 38.79233611111111, Lon: -90.56547499999999\n",
            "Processing Lat: 38.738438888888886, Lon: -90.36667499999999\n",
            "Processing Lat: 38.73178333333333, Lon: -90.34824166666667\n",
            "Processing Lat: 38.67972222222222, Lon: -90.21063055555555\n",
            "Processing Lat: 38.80746111111111, Lon: -90.91449722222222\n",
            "Processing Lat: 38.80645277777778, Lon: -90.82596388888888\n",
            "Processing Lat: 38.80237777777778, Lon: -90.65074166666668\n",
            "Processing Lat: 38.79120833333333, Lon: -90.56551666666667\n",
            "Processing Lat: 38.79244166666666, Lon: -90.56543055555555\n",
            "Processing Lat: 38.78483055555555, Lon: -90.53308888888888\n",
            "Processing Lat: 38.78060277777778, Lon: -90.52114166666667\n",
            "Processing Lat: 38.74048333333334, Lon: -90.40328611111111\n",
            "Processing Lat: 38.719886111111116, Lon: -90.30627222222222\n",
            "Processing Lat: 38.672866666666664, Lon: -90.2050388888889\n",
            "Processing Lat: 38.649388888888886, Lon: -90.19184722222222\n",
            "Processing Lat: 38.66065555555556, Lon: -90.35786388888889\n",
            "Processing Lat: 38.66063888888889, Lon: -90.3568111111111\n",
            "Processing Lat: 38.49203055555556, Lon: -90.30316388888889\n",
            "Processing Lat: 38.49344722222222, Lon: -90.30247777777778\n",
            "Processing Lat: 38.48894166666667, Lon: -90.28325277777778\n",
            "Processing Lat: 38.50383333333333, Lon: -90.32815277777777\n",
            "Processing Lat: 38.77589722222222, Lon: -90.35966666666666\n",
            "Processing Lat: 38.50816388888889, Lon: -90.35400555555555\n",
            "Processing Lat: 38.60319166666667, Lon: -90.44948055555555\n",
            "Processing Lat: 38.627205555555555, Lon: -90.45148055555556\n",
            "Processing Lat: 38.71485277777778, Lon: -90.44851666666668\n",
            "Processing Lat: 38.767827777777775, Lon: -90.181775\n",
            "Processing Lat: 38.529624999999996, Lon: -90.38940277777779\n",
            "Processing Lat: 38.515027777777775, Lon: -90.44674722222223\n",
            "Processing Lat: 38.56333055555555, Lon: -90.29587777777778\n",
            "Processing Lat: 38.71347222222222, Lon: -90.68189166666667\n",
            "Processing Lat: 38.73670277777778, Lon: -90.6333388888889\n",
            "Processing Lat: 38.76069444444445, Lon: -90.53005555555555\n",
            "Processing Lat: 38.768475, Lon: -90.5233138888889\n",
            "Processing Lat: 38.714111111111116, Lon: -90.67851388888889\n",
            "Processing Lat: 38.60002222222222, Lon: -90.40606944444446\n",
            "Processing Lat: 38.619455555555554, Lon: -90.29945833333333\n",
            "Processing Lat: 38.61987777777778, Lon: -90.20823611111112\n",
            "Processing Lat: 38.62595, Lon: -90.26539166666667\n",
            "Processing Lat: 38.68570833333333, Lon: -90.27118333333333\n",
            "Processing Lat: 38.673991666666666, Lon: -90.245825\n",
            "Processing Lat: 38.458105555555555, Lon: -90.41515555555556\n",
            "Processing Lat: 38.78791666666667, Lon: -90.45826944444445\n",
            "Processing Lat: 38.709583333333335, Lon: -90.50213333333333\n",
            "Processing Lat: 38.624900000000004, Lon: -90.51426388888889\n",
            "Processing Lat: 38.50790277777778, Lon: -90.44392777777779\n",
            "Processing Lat: 38.60503333333333, Lon: -90.51074166666666\n",
            "Processing Lat: 38.593111111111114, Lon: -90.5094388888889\n",
            "Processing Lat: 38.580172222222224, Lon: -90.50224722222222\n",
            "Processing Lat: 38.568158333333336, Lon: -90.49868055555555\n",
            "Processing Lat: 38.55931111111111, Lon: -90.49413333333334\n",
            "Processing Lat: 38.756236111111114, Lon: -90.4332\n",
            "Processing Lat: 38.67387222222222, Lon: -90.36219444444444\n",
            "Processing Lat: 38.74806111111111, Lon: -90.57822777777777\n",
            "Processing Lat: 38.75051944444444, Lon: -90.56296388888889\n",
            "Processing Lat: 38.769019444444446, Lon: -90.74083055555556\n",
            "Processing Lat: 38.74285833333333, Lon: -90.60897777777777\n",
            "Processing Lat: 38.748130555555555, Lon: -90.59104444444444\n",
            "Processing Lat: 38.69654166666666, Lon: -90.46455\n",
            "Processing Lat: 38.553555555555555, Lon: -90.41645000000001\n",
            "Processing Lat: 38.821713888888894, Lon: -90.5096361111111\n",
            "Processing Lat: 38.81699444444445, Lon: -90.56157777777777\n",
            "Processing Lat: 38.78541111111111, Lon: -90.41471666666668\n",
            "Processing Lat: 38.82755277777778, Lon: -90.83441944444444\n",
            "Processing Lat: 38.65529444444444, Lon: -90.447075\n",
            "Processing Lat: 38.80547222222222, Lon: -90.29681944444444\n",
            "Processing Lat: 38.770649999999996, Lon: -90.26632777777778\n",
            "Processing Lat: 38.626019444444445, Lon: -90.51276111111112\n",
            "Processing Lat: 38.51438611111111, Lon: -90.34262777777778\n",
            "Processing Lat: 38.52637222222222, Lon: -90.36623055555555\n",
            "Processing Lat: 38.54672222222222, Lon: -90.40339166666668\n",
            "Processing Lat: 38.558899999999994, Lon: -90.40674444444446\n",
            "Processing Lat: 38.56700277777778, Lon: -90.40645555555557\n",
            "Processing Lat: 38.82390277777778, Lon: -90.84868333333333\n",
            "Processing Lat: 38.52186944444444, Lon: -90.34681666666667\n",
            "Processing Lat: 38.523516666666666, Lon: -90.35496111111111\n",
            "Processing Lat: 38.52904722222222, Lon: -90.38044166666666\n",
            "Processing Lat: 38.53271111111111, Lon: -90.38487222222223\n",
            "Processing Lat: 38.53626388888889, Lon: -90.38919722222222\n",
            "Processing Lat: 38.787930555555555, Lon: -90.34934444444444\n",
            "Processing Lat: 38.78253055555555, Lon: -90.35778888888888\n",
            "Processing Lat: 38.76530277777778, Lon: -90.36978333333333\n",
            "Processing Lat: 38.62549444444444, Lon: -90.40560555555557\n"
          ]
        },
        {
          "output_type": "stream",
          "name": "stderr",
          "text": [
            "<ipython-input-8-76036eda2146>:2: SettingWithCopyWarning: \n",
            "A value is trying to be set on a copy of a slice from a DataFrame.\n",
            "Try using .loc[row_indexer,col_indexer] = value instead\n",
            "\n",
            "See the caveats in the documentation: https://pandas.pydata.org/pandas-docs/stable/user_guide/indexing.html#returning-a-view-versus-a-copy\n",
            "  latlongs.loc[:,'County'] = latlongs.apply(lambda row: get_county_google(row['Latitude_dec'], row['Longitude_dec']), axis=1)\n"
          ]
        }
      ]
    },
    {
      "cell_type": "code",
      "source": [
        "# Display the result\n",
        "latlongs[['Latitude', 'Longitude', 'Latitude_dec', 'Longitude_dec', 'County']].head()"
      ],
      "metadata": {
        "id": "7aubRpljwnLb"
      },
      "execution_count": null,
      "outputs": []
    },
    {
      "cell_type": "code",
      "source": [
        "#adding the newly generated column into the original dataset\n",
        "locations['County'] = latlongs['County']\n",
        "locations.head()"
      ],
      "metadata": {
        "id": "N_JXtmJqqLEI",
        "collapsed": true
      },
      "execution_count": null,
      "outputs": []
    },
    {
      "cell_type": "code",
      "source": [
        "#saving the updated dataframe to a file\n",
        "locations.to_excel('/content/drive/MyDrive/SL0202_Replacement_Locations_with_County2.xlsx', index=False)"
      ],
      "metadata": {
        "id": "N1TGEzQHNHuK"
      },
      "execution_count": 11,
      "outputs": []
    }
  ]
}